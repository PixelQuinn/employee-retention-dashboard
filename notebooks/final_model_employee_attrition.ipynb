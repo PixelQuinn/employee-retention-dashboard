{
 "cells": [
  {
   "cell_type": "markdown",
   "metadata": {},
   "source": [
    "# Employee Attrition Prediction: Final Model\n",
    "\n",
    "## Introduction\n",
    "This notebook presents the final Random Forest model for predicting employee attrition. The objective is to provide actionable insights for HR teams to reduce attrition rates, improve employee satisfaction, and lower costs associated with turnover.\n",
    "\n",
    "The notebook is structured as follows:\n",
    "1. Data Preparation\n",
    "2. Final Model Implementation\n",
    "3. Model Evaluation\n",
    "4. Feature Importance Analysis\n",
    "5. Prediction Pipeline\n",
    "6. Key Findings\n",
    "7. Model Saving\n",
    "\n",
    "**Key business question:** How can we use machine learning to predict and mitigate employee attrition effectively?"
   ]
  },
  {
   "cell_type": "markdown",
   "metadata": {},
   "source": [
    "## Data Preparation\n",
    "\n",
    "The data has been pre-engineered to ensure quality and relevance. Here, we load the dataset and prepare it for training and testing. The target variable is `Attrition`, representing whether an employee left the company (1) or stayed (0).\n",
    "\n",
    "Steps:\n",
    "1. Load the dataset.\n",
    "2. Split the data into training and testing sets.\n",
    "3. Scale or normalize features if necessary."
   ]
  },
  {
   "cell_type": "markdown",
   "metadata": {},
   "source": [
    "## Final Model\n",
    "\n",
    "We use the Random Forest Classifier as the final model due to its robust performance during experimentation. This model balances accuracy, interpretability, and efficiency, making it a suitable choice for real-world applications.\n",
    "\n",
    "The model is trained using the following hyperparameters:\n",
    "- Number of trees (`n_estimators`): 300\n",
    "- Maximum depth of trees (`max_depth`): 20\n",
    "- Minimum samples required to split a node (`min_samples_split`): 2\n",
    "- Minimum samples required in a leaf node (`min_samples_leaf`): 1\n",
    "- Class weight handling (`class_weight`): Balanced (subsampled)\n",
    "\n",
    "These parameters were fine-tuned through grid search cross-validation to achieve optimal performance."
   ]
  },
  {
   "cell_type": "markdown",
   "metadata": {},
   "source": [
    "## Model Evaluation\n",
    "\n",
    "We evaluate the model using the following metrics:\n",
    "1. **ROC-AUC Score:** Measures the model's ability to distinguish between classes.\n",
    "2. **Classification Report:** Provides precision, recall, and F1-score for both classes.\n",
    "3. **Confusion Matrix:** Highlights the true positives, false positives, true negatives, and false negatives.\n",
    "\n",
    "These metrics help assess the model's real-world usability and identify potential areas for improvement."
   ]
  },
  {
   "cell_type": "markdown",
   "metadata": {},
   "source": [
    "## Feature Importance Analysis\n",
    "\n",
    "Understanding feature importance helps us:\n",
    "1. Interpret the model's decisions.\n",
    "2. Identify key drivers of employee attrition.\n",
    "3. Provide actionable insights for HR teams.\n",
    "\n",
    "The plot below shows the most important features influencing the model's predictions. Features with higher importance values contribute more to the prediction of attrition."
   ]
  }
 ],
 "metadata": {
  "language_info": {
   "name": "python"
  }
 },
 "nbformat": 4,
 "nbformat_minor": 2
}
