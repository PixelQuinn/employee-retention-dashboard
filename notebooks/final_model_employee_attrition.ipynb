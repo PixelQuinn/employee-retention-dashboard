{
 "cells": [
  {
   "cell_type": "markdown",
   "metadata": {},
   "source": [
    "# Employee Attrition Prediction: Final Model\n",
    "\n",
    "## Introduction\n",
    "This notebook presents the final Random Forest model for predicting employee attrition. The objective is to provide actionable insights for HR teams to reduce attrition rates, improve employee satisfaction, and lower costs associated with turnover.\n",
    "\n",
    "The notebook is structured as follows:\n",
    "1. Data Preparation\n",
    "2. Final Model Implementation\n",
    "3. Model Evaluation\n",
    "4. Feature Importance Analysis\n",
    "5. Prediction Pipeline\n",
    "6. Key Findings\n",
    "7. Model Saving\n",
    "\n",
    "**Key business question:** How can we use machine learning to predict and mitigate employee attrition effectively?"
   ]
  },
  {
   "cell_type": "markdown",
   "metadata": {},
   "source": [
    "## Data Preparation\n",
    "\n",
    "The data has been pre-engineered to ensure quality and relevance. Here, we load the dataset and prepare it for training and testing. The target variable is `Attrition`, representing whether an employee left the company (1) or stayed (0).\n",
    "\n",
    "Steps:\n",
    "1. Load the dataset.\n",
    "2. Split the data into training and testing sets.\n",
    "3. Scale or normalize features if necessary."
   ]
  },
  {
   "cell_type": "markdown",
   "metadata": {},
   "source": [
    "## Final Model\n",
    "\n",
    "We use the Random Forest Classifier as the final model due to its robust performance during experimentation. This model balances accuracy, interpretability, and efficiency, making it a suitable choice for real-world applications.\n",
    "\n",
    "The model is trained using the following hyperparameters:\n",
    "- Number of trees (`n_estimators`): 300\n",
    "- Maximum depth of trees (`max_depth`): 20\n",
    "- Minimum samples required to split a node (`min_samples_split`): 2\n",
    "- Minimum samples required in a leaf node (`min_samples_leaf`): 1\n",
    "- Class weight handling (`class_weight`): Balanced (subsampled)\n",
    "\n",
    "These parameters were fine-tuned through grid search cross-validation to achieve optimal performance."
   ]
  },
  {
   "cell_type": "markdown",
   "metadata": {},
   "source": [
    "## Model Evaluation\n",
    "\n",
    "We evaluate the model using the following metrics:\n",
    "1. **ROC-AUC Score:** Measures the model's ability to distinguish between classes.\n",
    "2. **Classification Report:** Provides precision, recall, and F1-score for both classes.\n",
    "3. **Confusion Matrix:** Highlights the true positives, false positives, true negatives, and false negatives.\n",
    "\n",
    "These metrics help assess the model's real-world usability and identify potential areas for improvement."
   ]
  },
  {
   "cell_type": "markdown",
   "metadata": {},
   "source": [
    "## Feature Importance Analysis\n",
    "\n",
    "Understanding feature importance helps us:\n",
    "1. Interpret the model's decisions.\n",
    "2. Identify key drivers of employee attrition.\n",
    "3. Provide actionable insights for HR teams.\n",
    "\n",
    "The plot below shows the most important features influencing the model's predictions. Features with higher importance values contribute more to the prediction of attrition."
   ]
  },
  {
   "cell_type": "markdown",
   "metadata": {},
   "source": [
    "## Prediction Pipeline\n",
    "\n",
    "To use this model in production, we define a prediction pipeline. This pipeline takes input features and outputs the probability of attrition.\n",
    "\n",
    "The pipeline ensures that the model is easy to deploy and use in real-world scenarios. Below, we demonstrate how to use the pipeline to make predictions with sample input data."
   ]
  },
  {
   "cell_type": "markdown",
   "metadata": {},
   "source": [
    "## Key Findings\n",
    "\n",
    "### Summary of Results:\n",
    "- **ROC-AUC (Test Set):** 0.980\n",
    "- **Accuracy:** 93%\n",
    "- **Precision/Recall (Attrition Class):** High precision and recall for predicting attrition.\n",
    "\n",
    "### Feature Insights:\n",
    "The most important predictors of attrition include:\n",
    "1. **Work-Life Impact (OT_WorkLifeImpact):** Employees with poor work-life balance are at the highest risk of attrition.\n",
    "2. **Overtime (OverTime_Yes):** Employees working overtime are significantly more likely to leave.\n",
    "3. **Stock Option Level:** Employees with higher stock options are less likely to leave.\n",
    "4. **Marital Status (Single):** Single employees show a higher risk of attrition compared to their married counterparts.\n",
    "5. **Job Level:** Employees in lower job levels tend to leave more frequently.\n",
    "6. **Total Working Years:** Employees with fewer years of experience show higher attrition risk.\n",
    "7. **Age:** Younger employees are more likely to leave the organization.\n",
    "8. **Distance from Home:** Longer commutes are associated with higher attrition risk.\n",
    "9. **Seniority Impact:** Lower seniority levels correlate with higher attrition.\n",
    "10. **Environment Satisfaction:** Employees dissatisfied with their work environment are more likely to leave.\n",
    "\n",
    "### Business Recommendations:\n",
    "1. **Work-Life Balance Programs:** Invest in flexible work arrangements and workload management to improve work-life balance.\n",
    "2. **Manage Overtime:** Monitor and reduce excessive overtime to minimize burnout and dissatisfaction.\n",
    "3. **Incentives:** Offer attractive stock options or equivalent benefits to retain key talent.\n",
    "4. **Support Younger and Single Employees:** Provide targeted programs and career development opportunities for younger and single employees.\n",
    "5. **Address Commute Challenges:** Explore remote work or relocation support for employees with long commutes.\n",
    "6. **Employee Satisfaction Initiatives:** Conduct regular surveys to measure satisfaction and implement actionable improvements."
   ]
  }
 ],
 "metadata": {
  "language_info": {
   "name": "python"
  }
 },
 "nbformat": 4,
 "nbformat_minor": 2
}
