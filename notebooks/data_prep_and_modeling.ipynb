{
 "cells": [
  {
   "cell_type": "code",
   "execution_count": null,
   "metadata": {},
   "outputs": [],
   "source": [
    "# File: data_prep_and_modeling\n",
    "# -----------------------------\n",
    "# Objective:\n",
    "# - Prepare the dataset for machine learning by encoding, sclaing, and handling class imbalance.\n",
    "# - Split the data into training and testing sets.\n",
    "# - Lay the groundwork for predictive modeling."
   ]
  },
  {
   "cell_type": "code",
   "execution_count": 3,
   "metadata": {},
   "outputs": [],
   "source": [
    "# Import libraries\n",
    "import pandas as pd"
   ]
  },
  {
   "cell_type": "code",
   "execution_count": 4,
   "metadata": {},
   "outputs": [
    {
     "name": "stdout",
     "output_type": "stream",
     "text": [
      "Dataset Loaded. Shape: (1470, 36)\n"
     ]
    }
   ],
   "source": [
    "# Verify data\n",
    "\n",
    "# Load engineered data\n",
    "data = pd.read_csv('../data/engineered_dataset.csv')\n",
    "print(\"Dataset Loaded. Shape:\", data.shape)\n",
    "\n"
   ]
  }
 ],
 "metadata": {
  "kernelspec": {
   "display_name": "venv",
   "language": "python",
   "name": "python3"
  },
  "language_info": {
   "codemirror_mode": {
    "name": "ipython",
    "version": 3
   },
   "file_extension": ".py",
   "mimetype": "text/x-python",
   "name": "python",
   "nbconvert_exporter": "python",
   "pygments_lexer": "ipython3",
   "version": "3.9.13"
  }
 },
 "nbformat": 4,
 "nbformat_minor": 2
}
