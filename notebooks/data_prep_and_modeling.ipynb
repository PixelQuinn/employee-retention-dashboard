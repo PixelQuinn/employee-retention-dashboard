{
 "cells": [
  {
   "cell_type": "code",
   "execution_count": null,
   "metadata": {},
   "outputs": [],
   "source": [
    "# File: data_prep_and_modeling\n",
    "# -----------------------------\n",
    "# Objective:\n",
    "# - Prepare the dataset for machine learning by encoding, sclaing, and handling class imbalance.\n",
    "# - Split the data into training and testing sets.\n",
    "# - Lay the groundwork for predictive modeling."
   ]
  },
  {
   "cell_type": "code",
   "execution_count": 2,
   "metadata": {},
   "outputs": [],
   "source": [
    "# Import libraries\n",
    "import pandas as pd"
   ]
  },
  {
   "cell_type": "code",
   "execution_count": 3,
   "metadata": {},
   "outputs": [
    {
     "name": "stdout",
     "output_type": "stream",
     "text": [
      "Dataset Loaded. Shape: (1470, 36)\n"
     ]
    }
   ],
   "source": [
    "# Verify data\n",
    "\n",
    "# Load engineered data\n",
    "data = pd.read_csv('../data/engineered_dataset.csv')\n",
    "print(\"Dataset Loaded. Shape:\", data.shape)\n",
    "\n"
   ]
  },
  {
   "cell_type": "code",
   "execution_count": 7,
   "metadata": {},
   "outputs": [
    {
     "name": "stdout",
     "output_type": "stream",
     "text": [
      "Missing Values:\n",
      "Age                         0\n",
      "Attrition                   0\n",
      "BusinessTravel              0\n",
      "DailyRate                   0\n",
      "Department                  0\n",
      "DistanceFromHome            0\n",
      "Education                   0\n",
      "EducationField              0\n",
      "EnvironmentSatisfaction     0\n",
      "Gender                      0\n",
      "HourlyRate                  0\n",
      "JobInvolvement              0\n",
      "JobLevel                    0\n",
      "JobRole                     0\n",
      "JobSatisfaction             0\n",
      "MaritalStatus               0\n",
      "MonthlyIncome               0\n",
      "MonthlyRate                 0\n",
      "NumCompaniesWorked          0\n",
      "OverTime                    0\n",
      "PercentSalaryHike           0\n",
      "PerformanceRating           0\n",
      "RelationshipSatisfaction    0\n",
      "StockOptionLevel            0\n",
      "TotalWorkingYears           0\n",
      "TrainingTimesLastYear       0\n",
      "WorkLifeBalance             0\n",
      "YearsAtCompany              0\n",
      "YearsInCurrentRole          0\n",
      "YearsSinceLastPromotion     0\n",
      "YearsWithCurrManager        0\n",
      "RoleStability               0\n",
      "OverTime_Binary             0\n",
      "OT_WorkLifeImpact           0\n",
      "SeniorityImpact             0\n",
      "SatisfactionBalance         0\n",
      "dtype: int64\n",
      "\n",
      "Dataset Information:\n",
      "<class 'pandas.core.frame.DataFrame'>\n",
      "RangeIndex: 1470 entries, 0 to 1469\n",
      "Data columns (total 36 columns):\n",
      " #   Column                    Non-Null Count  Dtype  \n",
      "---  ------                    --------------  -----  \n",
      " 0   Age                       1470 non-null   int64  \n",
      " 1   Attrition                 1470 non-null   int64  \n",
      " 2   BusinessTravel            1470 non-null   object \n",
      " 3   DailyRate                 1470 non-null   int64  \n",
      " 4   Department                1470 non-null   object \n",
      " 5   DistanceFromHome          1470 non-null   int64  \n",
      " 6   Education                 1470 non-null   int64  \n",
      " 7   EducationField            1470 non-null   object \n",
      " 8   EnvironmentSatisfaction   1470 non-null   int64  \n",
      " 9   Gender                    1470 non-null   object \n",
      " 10  HourlyRate                1470 non-null   int64  \n",
      " 11  JobInvolvement            1470 non-null   int64  \n",
      " 12  JobLevel                  1470 non-null   int64  \n",
      " 13  JobRole                   1470 non-null   object \n",
      " 14  JobSatisfaction           1470 non-null   int64  \n",
      " 15  MaritalStatus             1470 non-null   object \n",
      " 16  MonthlyIncome             1470 non-null   int64  \n",
      " 17  MonthlyRate               1470 non-null   int64  \n",
      " 18  NumCompaniesWorked        1470 non-null   int64  \n",
      " 19  OverTime                  1470 non-null   object \n",
      " 20  PercentSalaryHike         1470 non-null   int64  \n",
      " 21  PerformanceRating         1470 non-null   int64  \n",
      " 22  RelationshipSatisfaction  1470 non-null   int64  \n",
      " 23  StockOptionLevel          1470 non-null   int64  \n",
      " 24  TotalWorkingYears         1470 non-null   int64  \n",
      " 25  TrainingTimesLastYear     1470 non-null   int64  \n",
      " 26  WorkLifeBalance           1470 non-null   int64  \n",
      " 27  YearsAtCompany            1470 non-null   int64  \n",
      " 28  YearsInCurrentRole        1470 non-null   int64  \n",
      " 29  YearsSinceLastPromotion   1470 non-null   int64  \n",
      " 30  YearsWithCurrManager      1470 non-null   int64  \n",
      " 31  RoleStability             1470 non-null   float64\n",
      " 32  OverTime_Binary           1470 non-null   int64  \n",
      " 33  OT_WorkLifeImpact         1470 non-null   float64\n",
      " 34  SeniorityImpact           1470 non-null   float64\n",
      " 35  SatisfactionBalance       1470 non-null   int64  \n",
      "dtypes: float64(3), int64(26), object(7)\n",
      "memory usage: 413.6+ KB\n",
      "None\n",
      "\n",
      "First five rows of the dataset: \n",
      "   Age  Attrition     BusinessTravel  DailyRate              Department  \\\n",
      "0   41          1      Travel_Rarely       1102                   Sales   \n",
      "1   49          0  Travel_Frequently        279  Research & Development   \n",
      "2   37          1      Travel_Rarely       1373  Research & Development   \n",
      "3   33          0  Travel_Frequently       1392  Research & Development   \n",
      "4   27          0      Travel_Rarely        591  Research & Development   \n",
      "\n",
      "   DistanceFromHome  Education EducationField  EnvironmentSatisfaction  \\\n",
      "0                 1          2  Life Sciences                        2   \n",
      "1                 8          1  Life Sciences                        3   \n",
      "2                 2          2          Other                        4   \n",
      "3                 3          4  Life Sciences                        4   \n",
      "4                 2          1        Medical                        1   \n",
      "\n",
      "   Gender  ...  WorkLifeBalance  YearsAtCompany  YearsInCurrentRole  \\\n",
      "0  Female  ...                1               6                   4   \n",
      "1    Male  ...                3              10                   7   \n",
      "2    Male  ...                3               0                   0   \n",
      "3  Female  ...                3               8                   7   \n",
      "4    Male  ...                3               2                   2   \n",
      "\n",
      "  YearsSinceLastPromotion  YearsWithCurrManager RoleStability  \\\n",
      "0                       0                     5      0.571429   \n",
      "1                       1                     7      0.636364   \n",
      "2                       0                     0      0.000000   \n",
      "3                       3                     0      0.777778   \n",
      "4                       2                     2      0.666667   \n",
      "\n",
      "   OverTime_Binary  OT_WorkLifeImpact  SeniorityImpact SatisfactionBalance  \n",
      "0                1           0.999990         0.749999                   4  \n",
      "1                0           0.000000         0.999999                   6  \n",
      "2                1           0.333332         0.000000                   9  \n",
      "3                1           0.333332         0.999999                   9  \n",
      "4                0           0.000000         0.333333                   6  \n",
      "\n",
      "[5 rows x 36 columns]\n"
     ]
    }
   ],
   "source": [
    "# Triple check for missing values\n",
    "print(\"Missing Values:\")\n",
    "print(data.isnull().sum())\n",
    "\n",
    "# Refresh yourself on data structure\n",
    "print(\"\\nDataset Information:\")\n",
    "print(data.info())\n",
    "\n",
    "# Refresh on the head\n",
    "print(\"\\nFirst five rows of the dataset: \")\n",
    "print(data.head())"
   ]
  },
  {
   "cell_type": "code",
   "execution_count": null,
   "metadata": {},
   "outputs": [],
   "source": [
    "# Dataset Verification: Summary and Findings\n",
    "# -------------------------------------------\n",
    "# Overview:\n",
    "# - The dataset contains 1470 rows and 36 columns.\n",
    "# - No missing values were found, indicating a clean dataset.\n",
    "# - Feature engineering has been successfully applied, and new features \n",
    "#   like RoleStability, OT_WorkLifeImpact, SeniorityImpact, and SatisfactionBalance are present.\n",
    "\n",
    "# Data Types:\n",
    "# - Numerical Features: 26 columns.\n",
    "# - Categorical Features: 7 columns.\n",
    "\n",
    "# Observations:\n",
    "# - The dataset is ready for preprocessing steps such as encoding, scaling, \n",
    "#   and addressing class imbalance.\n",
    "# - Categorical variables will require one-hot encoding for compatibility with machine learning models.\n",
    "\n",
    "# Next Steps:\n",
    "# 1. Encode Categorical Variables:\n",
    "#    - Convert categorical columns (e.g., BusinessTravel, Department) into numerical \n",
    "#      representations using one-hot encoding.\n",
    "#    - Ensure the dataset structure is preserved, and new columns are created as expected.\n",
    "# 2. Scale Numerical Features:\n",
    "#    - Normalize numerical columns to bring them into a consistent range.\n",
    "# 3. Address Class Imbalance:\n",
    "#    - Handle the imbalance in Attrition using oversampling techniques like SMOTE.\n",
    "# 4. Split Dataset:\n",
    "#    - Divide the dataset into training and testing sets to prepare for modeling.\n"
   ]
  },
  {
   "cell_type": "code",
   "execution_count": 9,
   "metadata": {},
   "outputs": [
    {
     "ename": "KeyError",
     "evalue": "\"None of [Index(['BusinessTravel', 'Department', 'EducationField', 'Gender', 'JobRole',\\n       'MaritalStatus', 'OverTime'],\\n      dtype='object')] are in the [columns]\"",
     "output_type": "error",
     "traceback": [
      "\u001b[0;31m---------------------------------------------------------------------------\u001b[0m",
      "\u001b[0;31mKeyError\u001b[0m                                  Traceback (most recent call last)",
      "Cell \u001b[0;32mIn[9], line 3\u001b[0m\n\u001b[1;32m      1\u001b[0m \u001b[38;5;66;03m# Encode categorical variables\u001b[39;00m\n\u001b[1;32m      2\u001b[0m categorical_cols \u001b[38;5;241m=\u001b[39m [\u001b[38;5;124m'\u001b[39m\u001b[38;5;124mBusinessTravel\u001b[39m\u001b[38;5;124m'\u001b[39m, \u001b[38;5;124m'\u001b[39m\u001b[38;5;124mDepartment\u001b[39m\u001b[38;5;124m'\u001b[39m, \u001b[38;5;124m'\u001b[39m\u001b[38;5;124mEducationField\u001b[39m\u001b[38;5;124m'\u001b[39m, \u001b[38;5;124m'\u001b[39m\u001b[38;5;124mGender\u001b[39m\u001b[38;5;124m'\u001b[39m, \u001b[38;5;124m'\u001b[39m\u001b[38;5;124mJobRole\u001b[39m\u001b[38;5;124m'\u001b[39m, \u001b[38;5;124m'\u001b[39m\u001b[38;5;124mMaritalStatus\u001b[39m\u001b[38;5;124m'\u001b[39m, \u001b[38;5;124m'\u001b[39m\u001b[38;5;124mOverTime\u001b[39m\u001b[38;5;124m'\u001b[39m]\n\u001b[0;32m----> 3\u001b[0m data \u001b[38;5;241m=\u001b[39m \u001b[43mpd\u001b[49m\u001b[38;5;241;43m.\u001b[39;49m\u001b[43mget_dummies\u001b[49m\u001b[43m(\u001b[49m\u001b[43mdata\u001b[49m\u001b[43m,\u001b[49m\u001b[43m \u001b[49m\u001b[43mcolumns\u001b[49m\u001b[38;5;241;43m=\u001b[39;49m\u001b[43mcategorical_cols\u001b[49m\u001b[43m,\u001b[49m\u001b[43m \u001b[49m\u001b[43mdrop_first\u001b[49m\u001b[38;5;241;43m=\u001b[39;49m\u001b[38;5;28;43;01mTrue\u001b[39;49;00m\u001b[43m)\u001b[49m\n\u001b[1;32m      5\u001b[0m \u001b[38;5;66;03m# Verify updated dataset columns\u001b[39;00m\n\u001b[1;32m      6\u001b[0m \u001b[38;5;28mprint\u001b[39m(\u001b[38;5;124m\"\u001b[39m\u001b[38;5;130;01m\\n\u001b[39;00m\u001b[38;5;124mUpdated Dataset Columns:\u001b[39m\u001b[38;5;124m\"\u001b[39m)\n",
      "File \u001b[0;32m~/Documents/GitHub/employee-retention-dashboard/venv/lib/python3.9/site-packages/pandas/core/reshape/encoding.py:169\u001b[0m, in \u001b[0;36mget_dummies\u001b[0;34m(data, prefix, prefix_sep, dummy_na, columns, sparse, drop_first, dtype)\u001b[0m\n\u001b[1;32m    167\u001b[0m     \u001b[38;5;28;01mraise\u001b[39;00m \u001b[38;5;167;01mTypeError\u001b[39;00m(\u001b[38;5;124m\"\u001b[39m\u001b[38;5;124mInput must be a list-like for parameter `columns`\u001b[39m\u001b[38;5;124m\"\u001b[39m)\n\u001b[1;32m    168\u001b[0m \u001b[38;5;28;01melse\u001b[39;00m:\n\u001b[0;32m--> 169\u001b[0m     data_to_encode \u001b[38;5;241m=\u001b[39m \u001b[43mdata\u001b[49m\u001b[43m[\u001b[49m\u001b[43mcolumns\u001b[49m\u001b[43m]\u001b[49m\n\u001b[1;32m    171\u001b[0m \u001b[38;5;66;03m# validate prefixes and separator to avoid silently dropping cols\u001b[39;00m\n\u001b[1;32m    172\u001b[0m \u001b[38;5;28;01mdef\u001b[39;00m\u001b[38;5;250m \u001b[39m\u001b[38;5;21mcheck_len\u001b[39m(item, name: \u001b[38;5;28mstr\u001b[39m):\n",
      "File \u001b[0;32m~/Documents/GitHub/employee-retention-dashboard/venv/lib/python3.9/site-packages/pandas/core/frame.py:4108\u001b[0m, in \u001b[0;36mDataFrame.__getitem__\u001b[0;34m(self, key)\u001b[0m\n\u001b[1;32m   4106\u001b[0m     \u001b[38;5;28;01mif\u001b[39;00m is_iterator(key):\n\u001b[1;32m   4107\u001b[0m         key \u001b[38;5;241m=\u001b[39m \u001b[38;5;28mlist\u001b[39m(key)\n\u001b[0;32m-> 4108\u001b[0m     indexer \u001b[38;5;241m=\u001b[39m \u001b[38;5;28;43mself\u001b[39;49m\u001b[38;5;241;43m.\u001b[39;49m\u001b[43mcolumns\u001b[49m\u001b[38;5;241;43m.\u001b[39;49m\u001b[43m_get_indexer_strict\u001b[49m\u001b[43m(\u001b[49m\u001b[43mkey\u001b[49m\u001b[43m,\u001b[49m\u001b[43m \u001b[49m\u001b[38;5;124;43m\"\u001b[39;49m\u001b[38;5;124;43mcolumns\u001b[39;49m\u001b[38;5;124;43m\"\u001b[39;49m\u001b[43m)\u001b[49m[\u001b[38;5;241m1\u001b[39m]\n\u001b[1;32m   4110\u001b[0m \u001b[38;5;66;03m# take() does not accept boolean indexers\u001b[39;00m\n\u001b[1;32m   4111\u001b[0m \u001b[38;5;28;01mif\u001b[39;00m \u001b[38;5;28mgetattr\u001b[39m(indexer, \u001b[38;5;124m\"\u001b[39m\u001b[38;5;124mdtype\u001b[39m\u001b[38;5;124m\"\u001b[39m, \u001b[38;5;28;01mNone\u001b[39;00m) \u001b[38;5;241m==\u001b[39m \u001b[38;5;28mbool\u001b[39m:\n",
      "File \u001b[0;32m~/Documents/GitHub/employee-retention-dashboard/venv/lib/python3.9/site-packages/pandas/core/indexes/base.py:6200\u001b[0m, in \u001b[0;36mIndex._get_indexer_strict\u001b[0;34m(self, key, axis_name)\u001b[0m\n\u001b[1;32m   6197\u001b[0m \u001b[38;5;28;01melse\u001b[39;00m:\n\u001b[1;32m   6198\u001b[0m     keyarr, indexer, new_indexer \u001b[38;5;241m=\u001b[39m \u001b[38;5;28mself\u001b[39m\u001b[38;5;241m.\u001b[39m_reindex_non_unique(keyarr)\n\u001b[0;32m-> 6200\u001b[0m \u001b[38;5;28;43mself\u001b[39;49m\u001b[38;5;241;43m.\u001b[39;49m\u001b[43m_raise_if_missing\u001b[49m\u001b[43m(\u001b[49m\u001b[43mkeyarr\u001b[49m\u001b[43m,\u001b[49m\u001b[43m \u001b[49m\u001b[43mindexer\u001b[49m\u001b[43m,\u001b[49m\u001b[43m \u001b[49m\u001b[43maxis_name\u001b[49m\u001b[43m)\u001b[49m\n\u001b[1;32m   6202\u001b[0m keyarr \u001b[38;5;241m=\u001b[39m \u001b[38;5;28mself\u001b[39m\u001b[38;5;241m.\u001b[39mtake(indexer)\n\u001b[1;32m   6203\u001b[0m \u001b[38;5;28;01mif\u001b[39;00m \u001b[38;5;28misinstance\u001b[39m(key, Index):\n\u001b[1;32m   6204\u001b[0m     \u001b[38;5;66;03m# GH 42790 - Preserve name from an Index\u001b[39;00m\n",
      "File \u001b[0;32m~/Documents/GitHub/employee-retention-dashboard/venv/lib/python3.9/site-packages/pandas/core/indexes/base.py:6249\u001b[0m, in \u001b[0;36mIndex._raise_if_missing\u001b[0;34m(self, key, indexer, axis_name)\u001b[0m\n\u001b[1;32m   6247\u001b[0m \u001b[38;5;28;01mif\u001b[39;00m nmissing:\n\u001b[1;32m   6248\u001b[0m     \u001b[38;5;28;01mif\u001b[39;00m nmissing \u001b[38;5;241m==\u001b[39m \u001b[38;5;28mlen\u001b[39m(indexer):\n\u001b[0;32m-> 6249\u001b[0m         \u001b[38;5;28;01mraise\u001b[39;00m \u001b[38;5;167;01mKeyError\u001b[39;00m(\u001b[38;5;124mf\u001b[39m\u001b[38;5;124m\"\u001b[39m\u001b[38;5;124mNone of [\u001b[39m\u001b[38;5;132;01m{\u001b[39;00mkey\u001b[38;5;132;01m}\u001b[39;00m\u001b[38;5;124m] are in the [\u001b[39m\u001b[38;5;132;01m{\u001b[39;00maxis_name\u001b[38;5;132;01m}\u001b[39;00m\u001b[38;5;124m]\u001b[39m\u001b[38;5;124m\"\u001b[39m)\n\u001b[1;32m   6251\u001b[0m     not_found \u001b[38;5;241m=\u001b[39m \u001b[38;5;28mlist\u001b[39m(ensure_index(key)[missing_mask\u001b[38;5;241m.\u001b[39mnonzero()[\u001b[38;5;241m0\u001b[39m]]\u001b[38;5;241m.\u001b[39munique())\n\u001b[1;32m   6252\u001b[0m     \u001b[38;5;28;01mraise\u001b[39;00m \u001b[38;5;167;01mKeyError\u001b[39;00m(\u001b[38;5;124mf\u001b[39m\u001b[38;5;124m\"\u001b[39m\u001b[38;5;132;01m{\u001b[39;00mnot_found\u001b[38;5;132;01m}\u001b[39;00m\u001b[38;5;124m not in index\u001b[39m\u001b[38;5;124m\"\u001b[39m)\n",
      "\u001b[0;31mKeyError\u001b[0m: \"None of [Index(['BusinessTravel', 'Department', 'EducationField', 'Gender', 'JobRole',\\n       'MaritalStatus', 'OverTime'],\\n      dtype='object')] are in the [columns]\""
     ]
    }
   ],
   "source": [
    "# Encode categorical variables\n",
    "categorical_cols = ['BusinessTravel', 'Department', 'EducationField', 'Gender', 'JobRole', 'MaritalStatus', 'OverTime']\n",
    "data = pd.get_dummies(data, columns=categorical_cols, drop_first=True)"
   ]
  },
  {
   "cell_type": "code",
   "execution_count": 10,
   "metadata": {},
   "outputs": [
    {
     "name": "stdout",
     "output_type": "stream",
     "text": [
      "\n",
      "Updated Dataset Columns:\n",
      "Index(['Age', 'Attrition', 'DailyRate', 'DistanceFromHome', 'Education',\n",
      "       'EnvironmentSatisfaction', 'HourlyRate', 'JobInvolvement', 'JobLevel',\n",
      "       'JobSatisfaction', 'MonthlyIncome', 'MonthlyRate', 'NumCompaniesWorked',\n",
      "       'PercentSalaryHike', 'PerformanceRating', 'RelationshipSatisfaction',\n",
      "       'StockOptionLevel', 'TotalWorkingYears', 'TrainingTimesLastYear',\n",
      "       'WorkLifeBalance', 'YearsAtCompany', 'YearsInCurrentRole',\n",
      "       'YearsSinceLastPromotion', 'YearsWithCurrManager', 'RoleStability',\n",
      "       'OverTime_Binary', 'OT_WorkLifeImpact', 'SeniorityImpact',\n",
      "       'SatisfactionBalance', 'BusinessTravel_Travel_Frequently',\n",
      "       'BusinessTravel_Travel_Rarely', 'Department_Research & Development',\n",
      "       'Department_Sales', 'EducationField_Life Sciences',\n",
      "       'EducationField_Marketing', 'EducationField_Medical',\n",
      "       'EducationField_Other', 'EducationField_Technical Degree',\n",
      "       'Gender_Male', 'JobRole_Human Resources',\n",
      "       'JobRole_Laboratory Technician', 'JobRole_Manager',\n",
      "       'JobRole_Manufacturing Director', 'JobRole_Research Director',\n",
      "       'JobRole_Research Scientist', 'JobRole_Sales Executive',\n",
      "       'JobRole_Sales Representative', 'MaritalStatus_Married',\n",
      "       'MaritalStatus_Single', 'OverTime_Yes'],\n",
      "      dtype='object')\n"
     ]
    }
   ],
   "source": [
    "# Verify updated dataset columns\n",
    "print(\"\\nUpdated Dataset Columns:\")\n",
    "print(data.columns)"
   ]
  },
  {
   "cell_type": "code",
   "execution_count": 11,
   "metadata": {},
   "outputs": [
    {
     "name": "stdout",
     "output_type": "stream",
     "text": [
      "\n",
      "Dataset Shape After Encoding: (1470, 50)\n"
     ]
    }
   ],
   "source": [
    "# Recheck shape of the dataset\n",
    "print(\"\\nDataset Shape After Encoding:\", data.shape)"
   ]
  },
  {
   "cell_type": "code",
   "execution_count": null,
   "metadata": {},
   "outputs": [],
   "source": [
    "# Categorical Variable Encoding: Summary\n",
    "# ---------------------------------------\n",
    "# Objective:\n",
    "# - Convert categorical variables into numerical format using one-hot encoding to ensure compatibility with machine learning algorithms.\n",
    "#\n",
    "# Process:\n",
    "# - Applied one-hot encoding to the following categorical columns:\n",
    "#   - BusinessTravel, Department, EducationField, Gender, JobRole, MaritalStatus, OverTime.\n",
    "# - Used the `drop_first=True` option to avoid multicollinearity by excluding the first category of each column.\n",
    "# - New binary columns were created for each category, replacing the original categorical variables.\n",
    "#\n",
    "# Results:\n",
    "# - The dataset now includes one-hot encoded columns such as:\n",
    "#   - BusinessTravel_Travel_Frequently, BusinessTravel_Travel_Rarely.\n",
    "#   - Department_Research & Development, Department_Sales.\n",
    "#   - OverTime_Yes, Gender_Male, etc.\n",
    "# - The total number of columns increased from 36 to 50 due to the added encoded columns."
   ]
  }
 ],
 "metadata": {
  "kernelspec": {
   "display_name": "venv",
   "language": "python",
   "name": "python3"
  },
  "language_info": {
   "codemirror_mode": {
    "name": "ipython",
    "version": 3
   },
   "file_extension": ".py",
   "mimetype": "text/x-python",
   "name": "python",
   "nbconvert_exporter": "python",
   "pygments_lexer": "ipython3",
   "version": "3.9.13"
  }
 },
 "nbformat": 4,
 "nbformat_minor": 2
}
