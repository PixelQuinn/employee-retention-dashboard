{
 "cells": [
  {
   "cell_type": "markdown",
   "metadata": {},
   "source": [
    "# Employee Attrition Prediction: Final Notebook\n",
    "\n",
    "## Objective\n",
    "This notebook demonstrates the end-to-end process of using a Random Forest model to predict employee attrition. It incorporates the preprocessed data, evaluates the saved best-performing model, and extracts actionable insights.\n",
    "\n",
    "## Workflow:\n",
    "1. Data Preparation: Load and preprocess the dataset.\n",
    "2. Model Reloading: Load the saved best Random Forest model.\n",
    "3. Evaluation: Assess the model's performance on the test set.\n",
    "4. Interpretation: Analyze feature importance and derive insights.\n",
    "5. Conclusion: Summarize findings and discuss business implications."
   ]
  },
  {
   "cell_type": "code",
   "execution_count": 5,
   "metadata": {},
   "outputs": [
    {
     "name": "stdout",
     "output_type": "stream",
     "text": [
      "Environment set up successfully.\n"
     ]
    }
   ],
   "source": [
    "# Import necessary libraries\n",
    "import pandas as pd\n",
    "import joblib\n",
    "import matplotlib.pyplot as plt\n",
    "from sklearn.metrics import classification_report, confusion_matrix, roc_auc_score, RocCurveDisplay\n",
    "\n",
    "# Display settings\n",
    "plt.style.use('seaborn-v0_8-darkgrid')\n",
    "pd.set_option('display.max_columns', None)\n",
    "pd.set_option('display.width', 1000)\n",
    "\n",
    "print(\"Environment set up successfully.\")"
   ]
  }
 ],
 "metadata": {
  "kernelspec": {
   "display_name": "venv",
   "language": "python",
   "name": "python3"
  },
  "language_info": {
   "codemirror_mode": {
    "name": "ipython",
    "version": 3
   },
   "file_extension": ".py",
   "mimetype": "text/x-python",
   "name": "python",
   "nbconvert_exporter": "python",
   "pygments_lexer": "ipython3",
   "version": "3.9.13"
  }
 },
 "nbformat": 4,
 "nbformat_minor": 2
}
